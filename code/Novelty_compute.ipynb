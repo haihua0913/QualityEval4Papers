{
 "cells": [
  {
   "cell_type": "code",
   "execution_count": null,
   "id": "eca16eaa-3dd1-4bcb-b475-fc3c5bc6e4a2",
   "metadata": {},
   "outputs": [],
   "source": [
    "import csv\n",
    "import torch\n",
    "from sentence_transformers import SentenceTransformer, util\n",
    "import pandas as pd\n",
    "model = SentenceTransformer('allenai-specter', device='cuda')\n"
   ]
  },
  {
   "cell_type": "code",
   "execution_count": null,
   "id": "75fab192-2d26-494d-8ade-d6dc403774c1",
   "metadata": {},
   "outputs": [],
   "source": [
    "# pip install sentence_transformers"
   ]
  },
  {
   "cell_type": "code",
   "execution_count": null,
   "id": "16ffeafe-3e94-4227-be6f-281c461d87eb",
   "metadata": {},
   "outputs": [],
   "source": [
    "## load the first csv file as the corpus\n",
    "corpus = []\n",
    "with open('data/cs_entity_2022.csv', 'r') as f:\n",
    "    reader = csv.reader(f)\n",
    "    for row in reader:\n",
    "        corpus.append(row)\n",
    "\n",
    "# preprocess the corpus\n",
    "corpus_texts = [text[1] + '[SEP]' + (text[2] or '') for text in corpus]\n",
    "\n",
    "# Compute embeddings for all papers\n",
    "corpus_embeddings = model.encode(corpus_texts, convert_to_tensor=True,device='cuda')"
   ]
  },
  {
   "cell_type": "code",
   "execution_count": null,
   "id": "5ff3837a-1e3e-4c9c-95dc-5d9542b2e2b9",
   "metadata": {},
   "outputs": [],
   "source": [
    "def calculate_similarity(input_file, output_file, entity1_col, entity2_col, model_name):\n",
    "    # Load input data from CSV file into a pandas DataFrame\n",
    "    df = pd.read_csv(input_file)\n",
    "\n",
    "    # Extract entities and text from DataFrame\n",
    "    entity1 = df[entity1_col].values\n",
    "    entity2 = df[entity2_col].values\n",
    "\n",
    "    # Load model\n",
    "    model = SentenceTransformer(model_name)\n",
    "\n",
    "    # Encode corpus texts and query\n",
    "    query_embeddings = model.encode(entity1 + '[SEP]' + entity2, convert_to_tensor=True, device='cuda')\n",
    "\n",
    "    # Calculate cosine similarity between query and corpus embeddings\n",
    "    cosine_scores = util.cos_sim(query_embeddings, corpus_embeddings)\n",
    "\n",
    "    # Check if query is in corpus\n",
    "    in_corpus = [query in corpus_texts for query in entity1 + '[SEP]' + entity2]\n",
    "\n",
    "    # Calculate average cosine similarity\n",
    "    average_scores = [torch.mean(cosine_scores[i][in_corpus[i]]).item() if in_corpus[i] else 0 for i in range(len(entity1))]\n",
    "    \n",
    "    # Add average cosine similarity to DataFrame\n",
    "    df['average_novelty'] = 1 - average_scores\n",
    "\n",
    "    # Save output data to CSV file\n",
    "    df.to_csv(output_file, index=False)\n",
    "\n",
    "    print(\"Similarity calculation completed and saved to file:\", output_file)"
   ]
  },
  {
   "cell_type": "code",
   "execution_count": null,
   "id": "05db290c-2137-44de-aa2a-471c53f074fd",
   "metadata": {},
   "outputs": [],
   "source": [
    "input_file = \"input.csv\"\n",
    "output_file = \"output.csv\"\n",
    "entity1_col = \"entity1\"\n",
    "entity2_col = \"entity2\"\n",
    "model_name = \"allenai-specter\"\n",
    "\n",
    "calculate_similarity(input_file, output_file, entity1_col, entity2_col, model_name)"
   ]
  }
 ],
 "metadata": {
  "kernelspec": {
   "display_name": "Python 3 (ipykernel)",
   "language": "python",
   "name": "python3"
  },
  "language_info": {
   "codemirror_mode": {
    "name": "ipython",
    "version": 3
   },
   "file_extension": ".py",
   "mimetype": "text/x-python",
   "name": "python",
   "nbconvert_exporter": "python",
   "pygments_lexer": "ipython3",
   "version": "3.10.12"
  }
 },
 "nbformat": 4,
 "nbformat_minor": 5
}
